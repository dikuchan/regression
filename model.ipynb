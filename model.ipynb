{
 "cells": [
  {
   "cell_type": "code",
   "execution_count": 30,
   "metadata": {},
   "outputs": [],
   "source": [
    "import pandas as pd\n",
    "import seaborn as sns\n",
    "import matplotlib.pyplot as plt\n",
    "import numpy as np\n",
    "\n",
    "from scipy.stats import zscore\n",
    "\n",
    "from sklearn.feature_selection import chi2, SelectKBest\n",
    "from sklearn.preprocessing import MinMaxScaler, StandardScaler\n",
    "from sklearn.linear_model import LinearRegression, SGDRegressor\n",
    "from sklearn.model_selection import train_test_split"
   ]
  },
  {
   "cell_type": "code",
   "execution_count": 31,
   "metadata": {},
   "outputs": [
    {
     "data": {
      "text/html": [
       "<div>\n",
       "<style scoped>\n",
       "    .dataframe tbody tr th:only-of-type {\n",
       "        vertical-align: middle;\n",
       "    }\n",
       "\n",
       "    .dataframe tbody tr th {\n",
       "        vertical-align: top;\n",
       "    }\n",
       "\n",
       "    .dataframe thead th {\n",
       "        text-align: right;\n",
       "    }\n",
       "</style>\n",
       "<table border=\"1\" class=\"dataframe\">\n",
       "  <thead>\n",
       "    <tr style=\"text-align: right;\">\n",
       "      <th></th>\n",
       "      <th>DAY_OF_MONTH</th>\n",
       "      <th>DAY_OF_WEEK</th>\n",
       "      <th>DEP_TIME</th>\n",
       "      <th>DEP_DELAY</th>\n",
       "      <th>CANCELLED</th>\n",
       "      <th>DIVERTED</th>\n",
       "      <th>DISTANCE</th>\n",
       "    </tr>\n",
       "  </thead>\n",
       "  <tbody>\n",
       "    <tr>\n",
       "      <th>count</th>\n",
       "      <td>456394.000000</td>\n",
       "      <td>456394.000000</td>\n",
       "      <td>456394.000000</td>\n",
       "      <td>456394.000000</td>\n",
       "      <td>456394.000000</td>\n",
       "      <td>456394.000000</td>\n",
       "      <td>456394.000000</td>\n",
       "    </tr>\n",
       "    <tr>\n",
       "      <th>mean</th>\n",
       "      <td>15.332081</td>\n",
       "      <td>3.853282</td>\n",
       "      <td>1320.081747</td>\n",
       "      <td>2.122797</td>\n",
       "      <td>0.000344</td>\n",
       "      <td>0.001459</td>\n",
       "      <td>724.674393</td>\n",
       "    </tr>\n",
       "    <tr>\n",
       "      <th>std</th>\n",
       "      <td>8.678755</td>\n",
       "      <td>1.981667</td>\n",
       "      <td>468.442817</td>\n",
       "      <td>14.383897</td>\n",
       "      <td>0.018544</td>\n",
       "      <td>0.038172</td>\n",
       "      <td>503.504208</td>\n",
       "    </tr>\n",
       "    <tr>\n",
       "      <th>min</th>\n",
       "      <td>1.000000</td>\n",
       "      <td>1.000000</td>\n",
       "      <td>1.000000</td>\n",
       "      <td>-44.000000</td>\n",
       "      <td>0.000000</td>\n",
       "      <td>0.000000</td>\n",
       "      <td>31.000000</td>\n",
       "    </tr>\n",
       "    <tr>\n",
       "      <th>25%</th>\n",
       "      <td>8.000000</td>\n",
       "      <td>2.000000</td>\n",
       "      <td>926.000000</td>\n",
       "      <td>-5.000000</td>\n",
       "      <td>0.000000</td>\n",
       "      <td>0.000000</td>\n",
       "      <td>340.000000</td>\n",
       "    </tr>\n",
       "    <tr>\n",
       "      <th>50%</th>\n",
       "      <td>15.000000</td>\n",
       "      <td>4.000000</td>\n",
       "      <td>1317.000000</td>\n",
       "      <td>-2.000000</td>\n",
       "      <td>0.000000</td>\n",
       "      <td>0.000000</td>\n",
       "      <td>597.000000</td>\n",
       "    </tr>\n",
       "    <tr>\n",
       "      <th>75%</th>\n",
       "      <td>23.000000</td>\n",
       "      <td>6.000000</td>\n",
       "      <td>1718.000000</td>\n",
       "      <td>3.000000</td>\n",
       "      <td>0.000000</td>\n",
       "      <td>0.000000</td>\n",
       "      <td>967.000000</td>\n",
       "    </tr>\n",
       "    <tr>\n",
       "      <th>max</th>\n",
       "      <td>30.000000</td>\n",
       "      <td>7.000000</td>\n",
       "      <td>2400.000000</td>\n",
       "      <td>87.000000</td>\n",
       "      <td>1.000000</td>\n",
       "      <td>1.000000</td>\n",
       "      <td>2466.000000</td>\n",
       "    </tr>\n",
       "  </tbody>\n",
       "</table>\n",
       "</div>"
      ],
      "text/plain": [
       "        DAY_OF_MONTH    DAY_OF_WEEK       DEP_TIME      DEP_DELAY  \\\n",
       "count  456394.000000  456394.000000  456394.000000  456394.000000   \n",
       "mean       15.332081       3.853282    1320.081747       2.122797   \n",
       "std         8.678755       1.981667     468.442817      14.383897   \n",
       "min         1.000000       1.000000       1.000000     -44.000000   \n",
       "25%         8.000000       2.000000     926.000000      -5.000000   \n",
       "50%        15.000000       4.000000    1317.000000      -2.000000   \n",
       "75%        23.000000       6.000000    1718.000000       3.000000   \n",
       "max        30.000000       7.000000    2400.000000      87.000000   \n",
       "\n",
       "           CANCELLED       DIVERTED       DISTANCE  \n",
       "count  456394.000000  456394.000000  456394.000000  \n",
       "mean        0.000344       0.001459     724.674393  \n",
       "std         0.018544       0.038172     503.504208  \n",
       "min         0.000000       0.000000      31.000000  \n",
       "25%         0.000000       0.000000     340.000000  \n",
       "50%         0.000000       0.000000     597.000000  \n",
       "75%         0.000000       0.000000     967.000000  \n",
       "max         1.000000       1.000000    2466.000000  "
      ]
     },
     "execution_count": 31,
     "metadata": {},
     "output_type": "execute_result"
    }
   ],
   "source": [
    "df = pd.read_csv('./data/raw/flights.csv')\n",
    "\n",
    "df = df.drop(columns=['Unnamed: 9'])\n",
    "df = df.dropna()\n",
    "for column in ['DEP_DELAY', 'DISTANCE']:\n",
    "    df = df[np.abs(zscore(df[column], axis=0)) < 3]\n",
    "    \n",
    "df.describe()"
   ]
  },
  {
   "cell_type": "code",
   "execution_count": 32,
   "metadata": {},
   "outputs": [
    {
     "data": {
      "text/plain": [
       "\"\\ndf['IS_MONDAY'] = (df['DAY_OF_WEEK'] == 1).astype('int32')\\ndf['IS_TUESDAY'] = (df['DAY_OF_WEEK'] == 2).astype('int32')\\ndf['IS_WEDNESDAY'] = (df['DAY_OF_WEEK'] == 3).astype('int32')\\ndf['IS_THIRSDAY'] = (df['DAY_OF_WEEK'] == 4).astype('int32')\\ndf['IS_FRIDAY'] = (df['DAY_OF_WEEK'] == 5).astype('int32')\\ndf['IS_SATURDAY'] = (df['DAY_OF_WEEK'] == 6).astype('int32')\\ndf['IS_SUNDAY'] = (df['DAY_OF_WEEK'] == 7).astype('int32')\\n\\ndf['IS_MORNING'] = (df['DEP_TIME'].between(500, 1200)).astype('int32')\\ndf['IS_DAY'] = (df['DEP_TIME'].between(1200, 1600)).astype('int32')\\ndf['IS_EVENING'] = (df['DEP_TIME'].between(1600, 2200)).astype('int32')\\ndf['IS_NIGHT'] = (df['DEP_TIME'].between(2200, 2400) | df['DEP_TIME'].between(0, 500)).astype('int32')\\n\\ndf = df.drop(columns=['DAY_OF_WEEK', 'DEP_TIME'])\\n\""
      ]
     },
     "execution_count": 32,
     "metadata": {},
     "output_type": "execute_result"
    }
   ],
   "source": [
    "\"\"\"\n",
    "df['IS_MONDAY'] = (df['DAY_OF_WEEK'] == 1).astype('int32')\n",
    "df['IS_TUESDAY'] = (df['DAY_OF_WEEK'] == 2).astype('int32')\n",
    "df['IS_WEDNESDAY'] = (df['DAY_OF_WEEK'] == 3).astype('int32')\n",
    "df['IS_THIRSDAY'] = (df['DAY_OF_WEEK'] == 4).astype('int32')\n",
    "df['IS_FRIDAY'] = (df['DAY_OF_WEEK'] == 5).astype('int32')\n",
    "df['IS_SATURDAY'] = (df['DAY_OF_WEEK'] == 6).astype('int32')\n",
    "df['IS_SUNDAY'] = (df['DAY_OF_WEEK'] == 7).astype('int32')\n",
    "\n",
    "df['IS_MORNING'] = (df['DEP_TIME'].between(500, 1200)).astype('int32')\n",
    "df['IS_DAY'] = (df['DEP_TIME'].between(1200, 1600)).astype('int32')\n",
    "df['IS_EVENING'] = (df['DEP_TIME'].between(1600, 2200)).astype('int32')\n",
    "df['IS_NIGHT'] = (df['DEP_TIME'].between(2200, 2400) | df['DEP_TIME'].between(0, 500)).astype('int32')\n",
    "\n",
    "df = df.drop(columns=['DAY_OF_WEEK', 'DEP_TIME'])\n",
    "\"\"\""
   ]
  },
  {
   "cell_type": "code",
   "execution_count": 33,
   "metadata": {},
   "outputs": [],
   "source": [
    "df = df.sample(n=100000)"
   ]
  },
  {
   "cell_type": "code",
   "execution_count": 34,
   "metadata": {},
   "outputs": [
    {
     "data": {
      "text/plain": [
       "\"\\ndf = df[df['DEP_DELAY'] >= 0]\\ndf['DEP_DELAY'] = df['DEP_DELAY'].where(df['DEP_DELAY'] > 0, 0)\\n\\ndf.describe()\\n\""
      ]
     },
     "execution_count": 34,
     "metadata": {},
     "output_type": "execute_result"
    }
   ],
   "source": [
    "\"\"\"\n",
    "df = df[df['DEP_DELAY'] >= 0]\n",
    "df['DEP_DELAY'] = df['DEP_DELAY'].where(df['DEP_DELAY'] > 0, 0)\n",
    "\n",
    "df.describe()\n",
    "\"\"\"\n",
    "\n",
    "# df.to_csv('./data/flights.csv', index=False)"
   ]
  },
  {
   "cell_type": "code",
   "execution_count": 35,
   "metadata": {},
   "outputs": [
    {
     "data": {
      "text/plain": [
       "\"\\ny = df['DEP_DELAY']\\nX = df.drop(columns=['DEP_DELAY'])\\n\\nselector = SelectKBest(chi2, k='all')\\nselector.fit(X, y)\\nselector.pvalues_\\n\""
      ]
     },
     "execution_count": 35,
     "metadata": {},
     "output_type": "execute_result"
    }
   ],
   "source": [
    "\"\"\"\n",
    "y = df['DEP_DELAY']\n",
    "X = df.drop(columns=['DEP_DELAY'])\n",
    "\n",
    "selector = SelectKBest(chi2, k='all')\n",
    "selector.fit(X, y)\n",
    "selector.pvalues_\n",
    "\"\"\""
   ]
  },
  {
   "cell_type": "code",
   "execution_count": 36,
   "metadata": {},
   "outputs": [
    {
     "data": {
      "text/plain": [
       "<AxesSubplot:>"
      ]
     },
     "execution_count": 36,
     "metadata": {},
     "output_type": "execute_result"
    },
    {
     "data": {
      "image/png": "[encoded data removed]",
      "text/plain": [
       "<Figure size 1152x432 with 2 Axes>"
      ]
     },
     "metadata": {
      "needs_background": "light"
     },
     "output_type": "display_data"
    }
   ],
   "source": [
    "plt.figure(figsize=(16, 6))\n",
    "sns.heatmap(df.corr(), annot=True)"
   ]
  },
  {
   "cell_type": "code",
   "execution_count": 37,
   "metadata": {
    "scrolled": false
   },
   "outputs": [
    {
     "data": {
      "text/html": [
       "<div>\n",
       "<style scoped>\n",
       "    .dataframe tbody tr th:only-of-type {\n",
       "        vertical-align: middle;\n",
       "    }\n",
       "\n",
       "    .dataframe tbody tr th {\n",
       "        vertical-align: top;\n",
       "    }\n",
       "\n",
       "    .dataframe thead th {\n",
       "        text-align: right;\n",
       "    }\n",
       "</style>\n",
       "<table border=\"1\" class=\"dataframe\">\n",
       "  <thead>\n",
       "    <tr style=\"text-align: right;\">\n",
       "      <th></th>\n",
       "      <th>DAY_OF_MONTH</th>\n",
       "      <th>DAY_OF_WEEK</th>\n",
       "      <th>DEP_TIME</th>\n",
       "      <th>DEP_DELAY</th>\n",
       "      <th>CANCELLED</th>\n",
       "      <th>DIVERTED</th>\n",
       "      <th>DISTANCE</th>\n",
       "    </tr>\n",
       "  </thead>\n",
       "  <tbody>\n",
       "    <tr>\n",
       "      <th>count</th>\n",
       "      <td>100000.000000</td>\n",
       "      <td>100000.000000</td>\n",
       "      <td>100000.000000</td>\n",
       "      <td>100000.000000</td>\n",
       "      <td>100000.00000</td>\n",
       "      <td>100000.000000</td>\n",
       "      <td>100000.000000</td>\n",
       "    </tr>\n",
       "    <tr>\n",
       "      <th>mean</th>\n",
       "      <td>15.335580</td>\n",
       "      <td>3.863190</td>\n",
       "      <td>1319.572130</td>\n",
       "      <td>2.159770</td>\n",
       "      <td>0.00036</td>\n",
       "      <td>0.001390</td>\n",
       "      <td>722.591030</td>\n",
       "    </tr>\n",
       "    <tr>\n",
       "      <th>std</th>\n",
       "      <td>8.663484</td>\n",
       "      <td>1.981578</td>\n",
       "      <td>467.802503</td>\n",
       "      <td>14.437066</td>\n",
       "      <td>0.01897</td>\n",
       "      <td>0.037257</td>\n",
       "      <td>502.384423</td>\n",
       "    </tr>\n",
       "    <tr>\n",
       "      <th>min</th>\n",
       "      <td>1.000000</td>\n",
       "      <td>1.000000</td>\n",
       "      <td>1.000000</td>\n",
       "      <td>-44.000000</td>\n",
       "      <td>0.00000</td>\n",
       "      <td>0.000000</td>\n",
       "      <td>31.000000</td>\n",
       "    </tr>\n",
       "    <tr>\n",
       "      <th>25%</th>\n",
       "      <td>8.000000</td>\n",
       "      <td>2.000000</td>\n",
       "      <td>927.000000</td>\n",
       "      <td>-5.000000</td>\n",
       "      <td>0.00000</td>\n",
       "      <td>0.000000</td>\n",
       "      <td>338.000000</td>\n",
       "    </tr>\n",
       "    <tr>\n",
       "      <th>50%</th>\n",
       "      <td>15.000000</td>\n",
       "      <td>4.000000</td>\n",
       "      <td>1318.000000</td>\n",
       "      <td>-2.000000</td>\n",
       "      <td>0.00000</td>\n",
       "      <td>0.000000</td>\n",
       "      <td>594.000000</td>\n",
       "    </tr>\n",
       "    <tr>\n",
       "      <th>75%</th>\n",
       "      <td>23.000000</td>\n",
       "      <td>6.000000</td>\n",
       "      <td>1717.000000</td>\n",
       "      <td>3.000000</td>\n",
       "      <td>0.00000</td>\n",
       "      <td>0.000000</td>\n",
       "      <td>967.000000</td>\n",
       "    </tr>\n",
       "    <tr>\n",
       "      <th>max</th>\n",
       "      <td>30.000000</td>\n",
       "      <td>7.000000</td>\n",
       "      <td>2400.000000</td>\n",
       "      <td>87.000000</td>\n",
       "      <td>1.00000</td>\n",
       "      <td>1.000000</td>\n",
       "      <td>2466.000000</td>\n",
       "    </tr>\n",
       "  </tbody>\n",
       "</table>\n",
       "</div>"
      ],
      "text/plain": [
       "        DAY_OF_MONTH    DAY_OF_WEEK       DEP_TIME      DEP_DELAY  \\\n",
       "count  100000.000000  100000.000000  100000.000000  100000.000000   \n",
       "mean       15.335580       3.863190    1319.572130       2.159770   \n",
       "std         8.663484       1.981578     467.802503      14.437066   \n",
       "min         1.000000       1.000000       1.000000     -44.000000   \n",
       "25%         8.000000       2.000000     927.000000      -5.000000   \n",
       "50%        15.000000       4.000000    1318.000000      -2.000000   \n",
       "75%        23.000000       6.000000    1717.000000       3.000000   \n",
       "max        30.000000       7.000000    2400.000000      87.000000   \n",
       "\n",
       "          CANCELLED       DIVERTED       DISTANCE  \n",
       "count  100000.00000  100000.000000  100000.000000  \n",
       "mean        0.00036       0.001390     722.591030  \n",
       "std         0.01897       0.037257     502.384423  \n",
       "min         0.00000       0.000000      31.000000  \n",
       "25%         0.00000       0.000000     338.000000  \n",
       "50%         0.00000       0.000000     594.000000  \n",
       "75%         0.00000       0.000000     967.000000  \n",
       "max         1.00000       1.000000    2466.000000  "
      ]
     },
     "execution_count": 37,
     "metadata": {},
     "output_type": "execute_result"
    }
   ],
   "source": [
    "df = df.drop(columns=['OP_UNIQUE_CARRIER', 'ORIGIN'])\n",
    "\n",
    "# df = pd.get_dummies(df, prefix=['CARRIER'], columns = ['OP_UNIQUE_CARRIER'], drop_first=True)\n",
    "# df = pd.get_dummies(df, prefix=['ORIGIN'], columns = ['ORIGIN'], drop_first=True)\n",
    "\n",
    "df.describe()"
   ]
  },
  {
   "cell_type": "code",
   "execution_count": 38,
   "metadata": {},
   "outputs": [],
   "source": [
    "y = df[['DEP_DELAY']]\n",
    "X = df.drop(columns=['DEP_DELAY'])\n",
    "X_train, X_test, y_train, y_test = train_test_split(X, y, test_size=0.2, random_state=1337)"
   ]
  },
  {
   "cell_type": "code",
   "execution_count": 39,
   "metadata": {},
   "outputs": [],
   "source": [
    "scaler = MinMaxScaler()\n",
    "X_train, y_train = scaler.fit_transform(X_train), scaler.fit_transform(y_train)\n",
    "X_test, y_test = scaler.fit_transform(X_test), scaler.fit_transform(y_test)"
   ]
  },
  {
   "cell_type": "code",
   "execution_count": 40,
   "metadata": {},
   "outputs": [
    {
     "name": "stderr",
     "output_type": "stream",
     "text": [
      "/usr/local/lib/python3.8/dist-packages/sklearn/utils/validation.py:72: DataConversionWarning: A column-vector y was passed when a 1d array was expected. Please change the shape of y to (n_samples, ), for example using ravel().\n",
      "  return f(**kwargs)\n"
     ]
    }
   ],
   "source": [
    "regression = SGDRegressor(max_iter=20000).fit(X_train, y_train)"
   ]
  },
  {
   "cell_type": "code",
   "execution_count": 41,
   "metadata": {},
   "outputs": [
    {
     "data": {
      "text/plain": [
       "0.03540753197574986"
      ]
     },
     "execution_count": 41,
     "metadata": {},
     "output_type": "execute_result"
    }
   ],
   "source": [
    "regression.score(X_train, y_train)"
   ]
  },
  {
   "cell_type": "code",
   "execution_count": 42,
   "metadata": {},
   "outputs": [
    {
     "data": {
      "text/plain": [
       "array([0.28842961])"
      ]
     },
     "execution_count": 42,
     "metadata": {},
     "output_type": "execute_result"
    }
   ],
   "source": [
    "regression.intercept_"
   ]
  },
  {
   "cell_type": "code",
   "execution_count": 43,
   "metadata": {},
   "outputs": [
    {
     "data": {
      "text/plain": [
       "array([ 0.01266134, -0.00928973,  0.10116163,  0.00301811,  0.00766878,\n",
       "        0.02233005])"
      ]
     },
     "execution_count": 43,
     "metadata": {},
     "output_type": "execute_result"
    }
   ],
   "source": [
    "regression.coef_"
   ]
  },
  {
   "cell_type": "code",
   "execution_count": 44,
   "metadata": {},
   "outputs": [
    {
     "name": "stdout",
     "output_type": "stream",
     "text": [
      "[0.35305238 0.37506245 0.34353104 0.33317006 0.31297654]\n",
      "[0.22321429 0.83035714 0.16964286 0.20535714 0.19642857]\n"
     ]
    }
   ],
   "source": [
    "print(regression.predict(X_test)[:5])\n",
    "print(y_test[:5].T[0])"
   ]
  }
 ],
 "metadata": {
  "kernelspec": {
   "display_name": "Python 3",
   "language": "python",
   "name": "python3"
  },
  "language_info": {
   "codemirror_mode": {
    "name": "ipython",
    "version": 3
   },
   "file_extension": ".py",
   "mimetype": "text/x-python",
   "name": "python",
   "nbconvert_exporter": "python",
   "pygments_lexer": "ipython3",
   "version": "3.8.6"
  }
 },
 "nbformat": 4,
 "nbformat_minor": 4
}
